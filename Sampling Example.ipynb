{
 "cells": [
  {
   "cell_type": "markdown",
   "metadata": {},
   "source": [
    "## Generative Architecture\n",
    "\n",
    "In this example, we will model the expectation directly through a generative model. The generative model specifies the distribution of the spectral measure. \n",
    "\n",
    "#### Pickands Function as an Expectation\n",
    "Remember that we can write $$A(s_1, \\ldots, s_d) = \\mathbb{E}_{w \\sim \\Lambda}\\left[\\max_{j=1\\ldots d} s_i w_i \\right ].$$\n",
    "In this scenario, we want to represent $\\Lambda$ through a generative network so $\\Lambda \\approx g_\\theta$. We can use a basic MLP to model the generator. \n",
    "\n",
    "We will use the same parameter estimation scheme from the previous notebook:\n",
    "\n",
    "#### Parameter Estimation\n",
    "Since differentiating the full CDF is highly prone to numerical errors, we consider a particular property of extreme value distributions. \n",
    "Let $M$ be a sample of componentwise maximum and let $\\tilde{M}_j = -\\log F_j (M_j)$ be the log of the margin transformed maximum. \n",
    "Define the random variable $Z_w$ as\n",
    "$$\n",
    "Z_w = \\bigwedge_{j=1\\ldots d} \\tilde{M}_j/w_j, \\quad w \\in \\Delta_{d-1}. \n",
    "$$\n",
    "Then $Z_w \\sim \\text{Exp}(A(w))$. \n",
    "This transformation allows us to use the maximum likelihood estimate for a 1-dimensional random variable for the full d-dimesional vector by sampling along the simplex $\\Delta_{d-1}$. \n",
    "\n",
    "\n",
    "We'll begin by importing the necessary packages. \n"
   ]
  },
  {
   "cell_type": "code",
   "execution_count": 1,
   "metadata": {},
   "outputs": [],
   "source": [
    "import torch\n",
    "import torch.nn as nn \n",
    "from torch.utils.data import DataLoader, random_split\n",
    "\n",
    "from pytorch_lightning import Trainer, seed_everything\n",
    "\n",
    "from datasets import ASL, SL\n",
    "from gen import GenerativePickandsModule\n",
    "from nets import SMLP\n",
    "from utils import CFGEstimator, rand_simplex\n",
    "\n",
    "import numpy as np\n",
    "\n",
    "%matplotlib inline\n",
    "import matplotlib.pyplot as plt"
   ]
  },
  {
   "cell_type": "markdown",
   "metadata": {},
   "source": [
    "Now let's define the dataset. We will use a 2D symmetric logistic distribution. "
   ]
  },
  {
   "cell_type": "code",
   "execution_count": 2,
   "metadata": {},
   "outputs": [],
   "source": [
    "d = 2\n",
    "n_data = 100\n",
    "alpha = 0.5\n",
    "\n",
    "dataset = SL(d, n_data, alpha)\n",
    "dataset_test = SL(d, n_data, alpha)\n",
    "\n",
    "def pickands_sl(w, alpha=alpha):\n",
    "    if alpha == 0:\n",
    "        return w.max(1)[0]\n",
    "    return torch.sum(w ** (1 / alpha), dim=1) ** alpha\n",
    "\n",
    "train_loader = DataLoader(dataset, batch_size=n_data, shuffle=False)\n",
    "test_loader  = DataLoader(dataset_test, batch_size=n_data, shuffle=False)"
   ]
  },
  {
   "cell_type": "markdown",
   "metadata": {},
   "source": [
    "Now let's define the training routine. This also uses Pytorch Lightning. This time we will fit a basic MLP to the generator. "
   ]
  },
  {
   "cell_type": "code",
   "execution_count": 3,
   "metadata": {},
   "outputs": [
    {
     "name": "stderr",
     "output_type": "stream",
     "text": [
      "GPU available: True, used: False\n",
      "TPU available: False, using: 0 TPU cores\n",
      "IPU available: False, using: 0 IPUs\n",
      "\n",
      "  | Name | Type | Params\n",
      "------------------------------\n",
      "0 | net  | SMLP | 134 K \n",
      "------------------------------\n",
      "134 K     Trainable params\n",
      "0         Non-trainable params\n",
      "134 K     Total params\n",
      "0.540     Total estimated model params size (MB)\n"
     ]
    }
   ],
   "source": [
    "%%capture --no-display\n",
    "\n",
    "latent_size = 4\n",
    "\n",
    "# Trainer parameters\n",
    "trainer_params = {\n",
    "        'gpus' : 0,\n",
    "        'max_epochs' : 100\n",
    "        }\n",
    "\n",
    "# Conditional Pickands Module Parameters\n",
    "model_params = {\n",
    "        'pickands' : pickands_sl,\n",
    "        'lr' : 1e-3,\n",
    "        'latent_size' : latent_size,\n",
    "        'd' : d,\n",
    "        'use_swa' : False,\n",
    "        'cov' : None\n",
    "        }\n",
    "\n",
    "# MLP Parameters\n",
    "arch_params = {\n",
    "        'input_size' : latent_size, # latent size for generative model\n",
    "        'layers' : 2,  \n",
    "        'hidden_size' : 256,\n",
    "        'out_size' : d\n",
    "        }\n",
    "\n",
    "net = SMLP(**arch_params)\n",
    "gpm = GenerativePickandsModule(net=net, **model_params)\n",
    "trainer = Trainer(**trainer_params)\n",
    "\n",
    "trainer.fit(gpm, train_loader, test_loader)"
   ]
  },
  {
   "cell_type": "markdown",
   "metadata": {},
   "source": [
    "Finally, let's plot a comparison of the true pickands function, the CFG pickands function using real data, and the CFG pickands function using simulated data. We can repeat this experiment for higher dimensional data, but we will have to compute the MSE between the estimated and true Pickands functions."
   ]
  },
  {
   "cell_type": "code",
   "execution_count": 4,
   "metadata": {},
   "outputs": [
    {
     "data": {
      "image/png": "[encoded data removed]",
      "text/plain": [
       "<Figure size 432x288 with 1 Axes>"
      ]
     },
     "metadata": {
      "needs_background": "light"
     },
     "output_type": "display_data"
    }
   ],
   "source": [
    "samples = gpm.sample(100)\n",
    "\n",
    "cfg_gen  = CFGEstimator(torch.Tensor(samples[0]))\n",
    "cfg_true = CFGEstimator(torch.Tensor(dataset[:100][0]))\n",
    "\n",
    "X_ = torch.linspace(0,1,100)\n",
    "X  = torch.stack((X_,1-X_),1)\n",
    "\n",
    "plt.plot(X_, cfg_gen(X), label='Simulated Data')\n",
    "plt.plot(X_, cfg_true(X), label='Real Data')\n",
    "plt.plot(X_, pickands_sl(X), label='True Pickands')\n",
    "plt.xlabel(r'$w \\in \\Delta_1$')\n",
    "plt.ylabel(r'$A(w)$')\n",
    "plt.legend()\n",
    "plt.show()"
   ]
  }
 ],
 "metadata": {
  "kernelspec": {
   "display_name": "Python (py36)",
   "language": "python",
   "name": "py36"
  },
  "language_info": {
   "codemirror_mode": {
    "name": "ipython",
    "version": 3
   },
   "file_extension": ".py",
   "mimetype": "text/x-python",
   "name": "python",
   "nbconvert_exporter": "python",
   "pygments_lexer": "ipython3",
   "version": "3.7.5"
  }
 },
 "nbformat": 4,
 "nbformat_minor": 2
}
